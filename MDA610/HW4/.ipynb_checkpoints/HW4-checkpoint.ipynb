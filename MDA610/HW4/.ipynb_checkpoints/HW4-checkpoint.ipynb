{
 "cells": [
  {
   "cell_type": "code",
   "execution_count": null,
   "metadata": {},
   "outputs": [],
   "source": [
    "string = input(\"input a string\\t\")\n",
    "reverse = string[::-1]\n",
    "print(\"reverse string {} \".format(reverse))"
   ]
  },
  {
   "cell_type": "code",
   "execution_count": null,
   "metadata": {},
   "outputs": [],
   "source": [
    "u = [1, 2, 3]\n",
    "\n",
    "number = int(input(\"input a number:\\t\")) \n",
    "\n",
    "\n",
    "v = number\n",
    "u.append(v)\n",
    "\n",
    "sum(u)\n",
    "\n",
    "len(u)\n",
    "\n",
    "avg = float(sum(u))/len(u)\n",
    "\n",
    "print(avg)"
   ]
  },
  {
   "cell_type": "code",
   "execution_count": null,
   "metadata": {},
   "outputs": [],
   "source": [
    "import math\n",
    "dir(math)\n",
    "\n",
    "r = int(input(\"radius of a circle:\\t\")) \n",
    "\n",
    "area = math.pi * r ** 2\n",
    "\n",
    "print(area)"
   ]
  },
  {
   "cell_type": "code",
   "execution_count": null,
   "metadata": {},
   "outputs": [],
   "source": [
    "x = int(input(\"input a number:\\t\")) \n",
    "\n",
    "import math\n",
    "dir(math)\n",
    "\n",
    "y = math.e ** x\n",
    "\n",
    "naturalLogarithm = math.log(y)\n",
    "\n",
    "commaonLogrithm = math.log(y, 10)\n",
    "\n",
    "\n",
    "print(\"naturalLogarithm {} \".format(naturalLogarithm) + \"commaonLogrithm {} \".format(commaonLogrithm))\n",
    "\n"
   ]
  }
 ],
 "metadata": {
  "kernelspec": {
   "display_name": "Python 3",
   "language": "python",
   "name": "python3"
  },
  "language_info": {
   "codemirror_mode": {
    "name": "ipython",
    "version": 3
   },
   "file_extension": ".py",
   "mimetype": "text/x-python",
   "name": "python",
   "nbconvert_exporter": "python",
   "pygments_lexer": "ipython3",
   "version": "3.7.3"
  }
 },
 "nbformat": 4,
 "nbformat_minor": 2
}
