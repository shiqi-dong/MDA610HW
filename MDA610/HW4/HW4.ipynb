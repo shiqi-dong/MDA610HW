{
 "cells": [
  {
   "cell_type": "code",
   "execution_count": 7,
   "metadata": {},
   "outputs": [
    {
     "name": "stdout",
     "output_type": "stream",
     "text": [
      "input a string\tabc\n",
      "reverse string cba \n"
     ]
    }
   ],
   "source": [
    "string = input(\"input a string\\t\")\n",
    "reverse = string[::-1]\n",
    "print(\"reverse string {} \".format(reverse))"
   ]
  },
  {
   "cell_type": "code",
   "execution_count": 24,
   "metadata": {},
   "outputs": [
    {
     "name": "stdout",
     "output_type": "stream",
     "text": [
      "input a number:\t6\n",
      "3.0\n"
     ]
    }
   ],
   "source": [
    "u = [1, 2, 3]\n",
    "\n",
    "number = int(input(\"input a number:\\t\")) \n",
    "\n",
    "\n",
    "v = number\n",
    "u.append(v)\n",
    "\n",
    "sum(u)\n",
    "\n",
    "len(u)\n",
    "\n",
    "avg = float(sum(u))/len(u)\n",
    "\n",
    "print(avg)"
   ]
  },
  {
   "cell_type": "code",
   "execution_count": 29,
   "metadata": {},
   "outputs": [
    {
     "name": "stdout",
     "output_type": "stream",
     "text": [
      "radius of a circle:\t5\n"
     ]
    },
    {
     "data": {
      "text/plain": [
       "78.53981633974483"
      ]
     },
     "execution_count": 29,
     "metadata": {},
     "output_type": "execute_result"
    }
   ],
   "source": [
    "import math\n",
    "dir(math)\n",
    "\n",
    "r = int(input(\"radius of a circle:\\t\")) \n",
    "\n",
    "area = math.pi * r ** 2\n",
    "\n",
    "print(area)"
   ]
  },
  {
   "cell_type": "code",
   "execution_count": 52,
   "metadata": {},
   "outputs": [
    {
     "name": "stdout",
     "output_type": "stream",
     "text": [
      "input a number:\t5\n",
      "naturalLogarithm 5.0 commaonLogrithm 2.1714724095162588 \n"
     ]
    }
   ],
   "source": [
    "x = int(input(\"input a number:\\t\")) \n",
    "\n",
    "import math\n",
    "dir(math)\n",
    "\n",
    "y = math.e ** x\n",
    "\n",
    "naturalLogarithm = math.log(y)\n",
    "\n",
    "commaonLogrithm = math.log(y, 10)\n",
    "\n",
    "\n",
    "print(\"naturalLogarithm {} \".format(naturalLogarithm) + \"commaonLogrithm {} \".format(commaonLogrithm))\n",
    "\n"
   ]
  }
 ],
 "metadata": {
  "kernelspec": {
   "display_name": "Python 3",
   "language": "python",
   "name": "python3"
  },
  "language_info": {
   "codemirror_mode": {
    "name": "ipython",
    "version": 3
   },
   "file_extension": ".py",
   "mimetype": "text/x-python",
   "name": "python",
   "nbconvert_exporter": "python",
   "pygments_lexer": "ipython3",
   "version": "3.7.3"
  }
 },
 "nbformat": 4,
 "nbformat_minor": 2
}
