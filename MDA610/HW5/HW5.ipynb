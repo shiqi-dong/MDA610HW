{
 "cells": [
  {
   "cell_type": "code",
   "execution_count": 16,
   "metadata": {},
   "outputs": [
    {
     "name": "stdout",
     "output_type": "stream",
     "text": [
      "Input your grade\t100\n",
      "A\n"
     ]
    }
   ],
   "source": [
    "# accepting user inputs\n",
    "\n",
    "y = int(input(\"Input your grade\\t\")) \n",
    "\n",
    "\n",
    "x = y\n",
    "if x == 0:\n",
    "  print(\"F\")\n",
    "elif 0 < x < 59: \n",
    "  print(\" F \")\n",
    "elif x == 60:\n",
    "  print(\"D\")\n",
    "elif 60 < x < 69:\n",
    "  print(\"D\")\n",
    "elif x == 70:\n",
    "  print(\"C\")\n",
    "elif 70 < x < 79:\n",
    "  print(\"C\")\n",
    "elif x == 80:\n",
    "  print(\"B\")\n",
    "elif 80 < x < 89:\n",
    "  print(\"B\")\n",
    "elif x == 90:\n",
    "  print(\"A\")\n",
    "elif 80 < x < 99:\n",
    "  print(\"A\")\n",
    "elif x == 100:\n",
    "  print(\"A\")"
   ]
  },
  {
   "cell_type": "code",
   "execution_count": 32,
   "metadata": {},
   "outputs": [
    {
     "name": "stdout",
     "output_type": "stream",
     "text": [
      "{3, 4, 7}\n"
     ]
    }
   ],
   "source": [
    "# input elements to a list\n",
    "\n",
    "arr1 = [1, 3, 4, 5, 7]\n",
    "arr2 = [3, 4, 7, 8, 9]\n",
    "\n",
    "# in three lists using sets \n",
    "Clist = set(arr1)\n",
    "Dlist = set(arr2)\n",
    "Newlist = Clist.intersection(Dlist) \n",
    "print(Newlist)"
   ]
  },
  {
   "cell_type": "code",
   "execution_count": 47,
   "metadata": {},
   "outputs": [
    {
     "name": "stdout",
     "output_type": "stream",
     "text": [
      "1 2 3 4 5\n",
      "2 4 6 8 10\n",
      "3 6 9 12 15\n",
      "4 8 12 16 20\n"
     ]
    }
   ],
   "source": [
    "for i in range(1, 5, 1):\n",
    "    print(i, i*2, i*3,i*4,i*5)"
   ]
  },
  {
   "cell_type": "code",
   "execution_count": 59,
   "metadata": {},
   "outputs": [
    {
     "name": "stdout",
     "output_type": "stream",
     "text": [
      "200,202,204,206,208,220,222,224,226,228,240,242,244,246,248,260,262,264,266,268,280,282,284,286,288,400\n"
     ]
    }
   ],
   "source": [
    "items = []\n",
    "for i in range(100, 401):\n",
    "    s = str(i)\n",
    "    if (int(s[0])%2==0) and (int(s[1])%2==0) and (int(s[2])%2==0):\n",
    "        items.append(s)\n",
    "print( \",\".join(items))"
   ]
  },
  {
   "cell_type": "code",
   "execution_count": 68,
   "metadata": {},
   "outputs": [
    {
     "name": "stdout",
     "output_type": "stream",
     "text": [
      "{'a': 250, 'b': 320, 'd': 10, 'e': 60}\n"
     ]
    }
   ],
   "source": [
    "# Python program to combine two dictionary \n",
    "# adding values for common keys \n",
    "# initializing two dictionaries \n",
    "\n",
    "adict = {'a': 200, 'b': 300, 'c': 400} \n",
    "\n",
    "bdict = {'a': 50, 'b': 20, 'd': 10, 'e': 60}\n",
    "# adding the values with common key \n",
    "for key in bdict: \n",
    "    if key in adict: \n",
    "        bdict[key] = bdict[key] + adict[key] \n",
    "    else: \n",
    "        pass\n",
    "          \n",
    "print(bdict) "
   ]
  },
  {
   "cell_type": "code",
   "execution_count": null,
   "metadata": {},
   "outputs": [],
   "source": []
  }
 ],
 "metadata": {
  "kernelspec": {
   "display_name": "Python 3",
   "language": "python",
   "name": "python3"
  },
  "language_info": {
   "codemirror_mode": {
    "name": "ipython",
    "version": 3
   },
   "file_extension": ".py",
   "mimetype": "text/x-python",
   "name": "python",
   "nbconvert_exporter": "python",
   "pygments_lexer": "ipython3",
   "version": "3.7.3"
  }
 },
 "nbformat": 4,
 "nbformat_minor": 2
}
