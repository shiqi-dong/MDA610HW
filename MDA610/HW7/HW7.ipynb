{
 "cells": [
  {
   "cell_type": "code",
   "execution_count": 51,
   "metadata": {},
   "outputs": [
    {
     "data": {
      "text/plain": [
       "{'mean': 3.5, 'variance': 3.5, 'std': 1.8708286933869707}"
      ]
     },
     "execution_count": 51,
     "metadata": {},
     "output_type": "execute_result"
    }
   ],
   "source": [
    "def average(x):\n",
    "    sum = 0\n",
    "    \n",
    "    for v in x:\n",
    "        sum = v + sum\n",
    "    return sum/len(x)\n",
    "average(x)\n",
    "\n",
    "import statistics \n",
    "\n",
    "x = [1.0, 2.0, 3.0, 4.0, 5.0,6.0] \n",
    "\n",
    "def compute(x):\n",
    "    m = average(x)\n",
    "    v = statistics.variance(x)\n",
    "    s = statistics.stdev(x)\n",
    "    \n",
    "    adict={}\n",
    "    adict['mean'] = m\n",
    "    adict['variance'] = v\n",
    "    adict['std'] = s     \n",
    "    \n",
    "    return adict\n",
    "\n",
    "compute_status(x)\n"
   ]
  },
  {
   "cell_type": "code",
   "execution_count": 52,
   "metadata": {},
   "outputs": [
    {
     "name": "stdout",
     "output_type": "stream",
     "text": [
      "Please enter a number: 5\n",
      "Please enter another number: 5\n",
      "Please enter another number: 5\n",
      "Please enter another number: 5\n",
      "Please enter another number: stop\n",
      "You entered numbers whose average is 5.0.\n"
     ]
    }
   ],
   "source": [
    "prompt = \"Please enter a number: \"\n",
    "sum = 0\n",
    "count = 0\n",
    "average = 0\n",
    "while True:\n",
    "    s = input(prompt)\n",
    "    prompt = \"Please enter another number: \"\n",
    "    if s.lower() == 'stop':\n",
    "        break\n",
    "    try:\n",
    "        sum += float(s)\n",
    "        count += 1\n",
    "        average = sum / count\n",
    "    except ValueError:\n",
    "        print (\"Bad number.  Try again\")\n",
    "print (\"You entered numbers whose average is %s.\" % str(average))"
   ]
  },
  {
   "cell_type": "code",
   "execution_count": null,
   "metadata": {},
   "outputs": [],
   "source": []
  }
 ],
 "metadata": {
  "kernelspec": {
   "display_name": "Python 3",
   "language": "python",
   "name": "python3"
  },
  "language_info": {
   "codemirror_mode": {
    "name": "ipython",
    "version": 3
   },
   "file_extension": ".py",
   "mimetype": "text/x-python",
   "name": "python",
   "nbconvert_exporter": "python",
   "pygments_lexer": "ipython3",
   "version": "3.7.3"
  }
 },
 "nbformat": 4,
 "nbformat_minor": 2
}
