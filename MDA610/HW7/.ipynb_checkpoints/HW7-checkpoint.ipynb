{
 "cells": [
  {
   "cell_type": "code",
   "execution_count": 19,
   "metadata": {},
   "outputs": [
    {
     "name": "stdout",
     "output_type": "stream",
     "text": [
      "Standard Deviation of the sample is 1.5811388300841898 \n",
      "Variance of the sample is 2.5\n",
      "Mean of Sample set is 1.6833333333333333 \n"
     ]
    }
   ],
   "source": [
    "# importing Statistics module \n",
    "import statistics \n",
    "  \n",
    "# creating a simple data-set \n",
    "sample = [1.0, 2.0, 3.0, 4.0, 5.0] \n",
    "  \n",
    "# Printing standard deviation \n",
    "# xbar is set to default value of 1 \n",
    "print(\"Standard Deviation of the sample is % s \" \n",
    "                    %(statistics.stdev(sample))) \n",
    "  \n",
    "# variance is approximately the  \n",
    "# squared result of what stdev is \n",
    "print(\"Variance of the sample is % s\" \n",
    "     %(statistics.variance(sample))) \n",
    "\n",
    "  \n",
    "# creating a sample list \n",
    "sample = (1.0, 1.3, 1.2, 1.9, 2.5, 2.2) \n",
    "  \n",
    "# calculating the mean of sample set \n",
    "m = statistics.mean(sample) \n",
    "print(\"Mean of Sample set is % s \" \n",
    "         %(statistics.mean(sample))) \n",
    "  "
   ]
  },
  {
   "cell_type": "code",
   "execution_count": 9,
   "metadata": {},
   "outputs": [
    {
     "name": "stdout",
     "output_type": "stream",
     "text": [
      "Enter a number: 4\n",
      "Enter a number: 4\n",
      "Enter a number: 4\n",
      "Enter a number: 4\n",
      "Enter a number: stop\n",
      "You entered numbers whose average is 4.0.\n"
     ]
    }
   ],
   "source": [
    "inp = 'Enter a number: '\n",
    "total = 0\n",
    "average = 0\n",
    "while True:\n",
    "        s = input(inp)\n",
    "        if s == 'stop':\n",
    "                break\n",
    "        try:\n",
    "                total += float(s)\n",
    "                average = total / count\n",
    "        except ValueError:\n",
    "                print (\"Invalid Input. Try again: \")\n",
    "        continue\n",
    "print ('You entered numbers whose average is %s.' % str(average))"
   ]
  },
  {
   "cell_type": "code",
   "execution_count": null,
   "metadata": {},
   "outputs": [],
   "source": []
  }
 ],
 "metadata": {
  "kernelspec": {
   "display_name": "Python 3",
   "language": "python",
   "name": "python3"
  },
  "language_info": {
   "codemirror_mode": {
    "name": "ipython",
    "version": 3
   },
   "file_extension": ".py",
   "mimetype": "text/x-python",
   "name": "python",
   "nbconvert_exporter": "python",
   "pygments_lexer": "ipython3",
   "version": "3.7.3"
  }
 },
 "nbformat": 4,
 "nbformat_minor": 2
}
