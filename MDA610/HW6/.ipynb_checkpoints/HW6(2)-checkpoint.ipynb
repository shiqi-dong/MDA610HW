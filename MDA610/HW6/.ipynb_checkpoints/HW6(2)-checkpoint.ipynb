{
 "cells": [
  {
   "cell_type": "markdown",
   "metadata": {},
   "source": [
    "# Analyzing Data with Built-in Features of Python\n",
    "\n",
    "In this small project, you use standard Python features to analyze the Miete data set. The data set contains the data of 1082 households interviewed for the Munich rent standard. A description of the attributes (column titles) is available in [RDocumentation](https://www.rdocumentation.org/packages/kknn/versions/1.3.1/topics/miete). But our data set contains only 16 (not 18) attributes. "
   ]
  },
  {
   "cell_type": "markdown",
   "metadata": {},
   "source": [
    "## Initialization\n",
    "\n",
    "Run the next code cell first, which loads the data set from file `Miete.csv` and converts the data into a nested list `data`. The .csv file and this notebook file should be in the same folder. \n",
    "\n",
    "As `data` is a nested list, you can apply list indexing, slicing, comprehensions and enumeration. \n",
    "\n",
    "- List indexing is `0`-based.\n",
    "- `data[0]` returns the attribute names. \n",
    "- `data[i]` returns the data of the `i-th` house. For instance, `data[1000]` returns the attributes of the 1000-th house. \n",
    "- `data[i][j]` returns the `(j+1)-th` attribute of the `i-th`. For instance, `data[80][2]` returns in which year the 80-th house was built.\n",
    "- `for v in data[1:]` iterates over all houses in sequence. For instance, `[v[0] for v in data[1:] if v[3]]` returns a list of the rents of the houses with a bath. "
   ]
  },
  {
   "cell_type": "code",
   "execution_count": 7,
   "metadata": {},
   "outputs": [
    {
     "name": "stdout",
     "output_type": "stream",
     "text": [
      "['Rent', 'FloorSpace', 'YearBuilt', 'Bath', 'CentralHeating', 'HotWater', 'TiledBath', 'WindowType', 'KitchenType', 'LeaseDuration', 'AgeCategory', 'FloorSpaceCategory', 'NetRentPerSqm', 'Rooms', 'AddressType', 'ResidenceType']\n",
      "[693.29, 50, 1971, 0, 1, 0, 0, 0, 0, 2, 4, 1, 13.865, 1, 2, 2]\n",
      "[736.6, 70, 1971, 0, 1, 0, 0, 0, 0, 26, 4, 2, 10.522, 3, 2, 2]\n",
      "[732.23, 50, 1971, 0, 1, 0, 0, 0, 0, 1, 4, 1, 14.644, 1, 2, 2]\n",
      "[1295.14, 55, 1893, 0, 1, 0, 0, 0, 0, 0, 1, 2, 23.548, 3, 2, 2]\n"
     ]
    }
   ],
   "source": [
    "import pandas as pd\n",
    "from pandas import DataFrame as DF\n",
    "df = pd.read_csv('Miete.csv')\n",
    "data = [df.columns.values.tolist()]+df.values.tolist()\n",
    "# data preprocessing\n",
    "for i in range(1, len(data)):\n",
    "    for j in range(0, len(data[1])):\n",
    "        if j == 0:\n",
    "            data[i][j] = int(data[i][j] * 100) / 100\n",
    "            continue\n",
    "        if j == 12:\n",
    "            data[i][j] = int(data[i][j] * 1000) / 1000\n",
    "            continue\n",
    "        data[i][j] = int(data[i][j])\n",
    "# outputs the column titles and the first four observations\n",
    "for i in range(5):\n",
    "    print(data[i])"
   ]
  },
  {
   "cell_type": "code",
   "execution_count": 2,
   "metadata": {},
   "outputs": [
    {
     "data": {
      "text/plain": [
       "2"
      ]
     },
     "execution_count": 2,
     "metadata": {},
     "output_type": "execute_result"
    }
   ],
   "source": [
    " data[1][9]"
   ]
  },
  {
   "cell_type": "markdown",
   "metadata": {},
   "source": [
    "## Data Retrieval\n",
    "\n",
    "Use the output of a Python snippet to answer each question. For instance, the output of snippet `data[1][9]` answers question \"How long was the lease duration of the first house?\" Write your code under the `pass` statement in a TODO code cell."
   ]
  },
  {
   "cell_type": "markdown",
   "metadata": {},
   "source": [
    "### Question 1\n",
    "\n",
    "In which year was the first house in the data set built?"
   ]
  },
  {
   "cell_type": "code",
   "execution_count": 8,
   "metadata": {},
   "outputs": [
    {
     "data": {
      "text/plain": [
       "[1800]"
      ]
     },
     "execution_count": 8,
     "metadata": {},
     "output_type": "execute_result"
    }
   ],
   "source": [
    "### TODO 1 ####\n",
    "pass\n",
    "minYearBuilt = [df.YearBuilt.values.min()]\n",
    "minYearBuilt "
   ]
  },
  {
   "cell_type": "markdown",
   "metadata": {},
   "source": [
    "### Question 2\n",
    "\n",
    "How much was the rent of the tenth house in the data set?"
   ]
  },
  {
   "cell_type": "code",
   "execution_count": 13,
   "metadata": {},
   "outputs": [
    {
     "data": {
      "text/plain": [
       "657.44"
      ]
     },
     "execution_count": 13,
     "metadata": {},
     "output_type": "execute_result"
    }
   ],
   "source": [
    "### TODO 2 ####\n",
    "pass\n",
    "\n",
    "data[10][0]\n",
    "\n"
   ]
  },
  {
   "cell_type": "markdown",
   "metadata": {},
   "source": [
    "### Question 3\n",
    "\n",
    "How many rooms were there in the last house in the data set?"
   ]
  },
  {
   "cell_type": "code",
   "execution_count": 14,
   "metadata": {},
   "outputs": [
    {
     "data": {
      "text/plain": [
       "2"
      ]
     },
     "execution_count": 14,
     "metadata": {},
     "output_type": "execute_result"
    }
   ],
   "source": [
    "### TODO 3 ####\n",
    "pass\n",
    "\n",
    "data[-1][-3]"
   ]
  },
  {
   "cell_type": "markdown",
   "metadata": {},
   "source": [
    "### Question 4\n",
    "\n",
    "How much was the rent of each house built before 1880? Return a list of the rents. Sample output: `[644.4, 441.52, 837.9, ...]`. Hint: Use list comprehensions. Note that you should begin with `data[1]`, not `data[0]` as `data[0]` returns attribute names, not attribute values. "
   ]
  },
  {
   "cell_type": "code",
   "execution_count": null,
   "metadata": {},
   "outputs": [],
   "source": [
    "#### TODO 4 ####\n",
    "pass\n",
    "[v[0] for v in data[1:] if v[2]<1880]"
   ]
  },
  {
   "cell_type": "markdown",
   "metadata": {},
   "source": [
    "## Data Aggregation\n",
    "\n",
    "Use the output of a Python snippet to answer each question. Write your code under the `pass` statement in a TODO code cell. You may call Python built-in functions `sum`, `len`, `min` and `max`. For instance, `max([v[0] for v in data[1:] if not v[3]])` returns the highest rent of the houses without a bathroom; while `sum([v[0] for v in data[1:]]) / len([v[0] for v in data[1:]])` returns the average rent. Do **not** use Numpy or pandas methods."
   ]
  },
  {
   "cell_type": "markdown",
   "metadata": {},
   "source": [
    "### Question 5\n",
    "\n",
    "What was the lowest rent of all houses in the data set?"
   ]
  },
  {
   "cell_type": "code",
   "execution_count": 21,
   "metadata": {},
   "outputs": [
    {
     "data": {
      "text/plain": [
       "127.06"
      ]
     },
     "execution_count": 21,
     "metadata": {},
     "output_type": "execute_result"
    }
   ],
   "source": [
    "#### TODO 5 ####\n",
    "pass\n",
    "min([v[0] for v in data[1:]])"
   ]
  },
  {
   "cell_type": "markdown",
   "metadata": {},
   "source": [
    "### Question 6\n",
    "\n",
    "What was the standard deviation of the rents?"
   ]
  },
  {
   "cell_type": "code",
   "execution_count": 22,
   "metadata": {},
   "outputs": [
    {
     "data": {
      "text/plain": [
       "408.3336415832438"
      ]
     },
     "execution_count": 22,
     "metadata": {},
     "output_type": "execute_result"
    }
   ],
   "source": [
    "### Question 6 ####\n",
    "import statistics \n",
    "from statistics import stdev \n",
    "stdev([v[0] for v in data[1:]])"
   ]
  },
  {
   "cell_type": "markdown",
   "metadata": {},
   "source": [
    "### Question 7\n",
    "\n",
    "Variable `AgeCategory` has six levels:  1 - built before 1919  2 - built between 1919 and 1948  3 - built between 1949 and 1965  4 - built between 1966 and 1977 5 - built between 1978 and 1983  6 - built after 1983. What was the average rent of the houses built between 1966 and 1977? "
   ]
  },
  {
   "cell_type": "code",
   "execution_count": 73,
   "metadata": {},
   "outputs": [
    {
     "data": {
      "text/plain": [
       "830.32526802218"
      ]
     },
     "execution_count": 73,
     "metadata": {},
     "output_type": "execute_result"
    }
   ],
   "source": [
    "#### TODO 7 ####\n",
    "pass\n",
    "\n",
    "sum([v[0] for v in data[1:] if v[10] == 4]) / len([v[0] for v in data[1:] if v[10] == 4])"
   ]
  },
  {
   "cell_type": "markdown",
   "metadata": {},
   "source": [
    "### Question 8\n",
    "\n",
    "Variable `Rooms` shows the number of rooms in a house. Variable `KitchenType` has two levels: 1 - well equipped kitchen  0 - plain kitchen. What was the highest rent of a house with 3 rooms and a well-equipped kitchen?"
   ]
  },
  {
   "cell_type": "code",
   "execution_count": null,
   "metadata": {},
   "outputs": [],
   "source": [
    "#### TODO 8 ####\n",
    "pass\n",
    "\n",
    "max([v[0] for v in data[1:] if v[-3] == 3 and v[8] == 1])"
   ]
  },
  {
   "cell_type": "markdown",
   "metadata": {},
   "source": [
    "### Question 9\n",
    "\n",
    "Variable `CentralHeating` has two levels: 1 - yes   0 - no. How many houses had central heating?"
   ]
  },
  {
   "cell_type": "code",
   "execution_count": null,
   "metadata": {},
   "outputs": [],
   "source": [
    "#### TODO 9 ###\n",
    "pass\n",
    "len([v[4] for v in data[1:] if v[4] == 1])"
   ]
  },
  {
   "cell_type": "markdown",
   "metadata": {},
   "source": [
    "### Question 10\n",
    "\n",
    "In which year was the house with the highest rent constructed?"
   ]
  },
  {
   "cell_type": "code",
   "execution_count": 8,
   "metadata": {},
   "outputs": [
    {
     "data": {
      "text/plain": [
       "[1933]"
      ]
     },
     "execution_count": 8,
     "metadata": {},
     "output_type": "execute_result"
    }
   ],
   "source": [
    "#### TODO 10 ####\n",
    "pass\n",
    "\n",
    "[v[2] for v in data[1:] if v[0] == max([v[0] for v in data[1:]])]"
   ]
  },
  {
   "cell_type": "markdown",
   "metadata": {},
   "source": [
    "### Question 11\n",
    "\n",
    "Derive the frequency distribution of the houses in terms of Rooms. Hint: apply the `list.count` method. Sample output:\n",
    "\n",
    "|\\# Rooms   |Frequency |\n",
    "|:---------:|:---------:|\n",
    "|1       |137    |\n",
    "|2       |374    |\n",
    "|...     |...    |\n",
    "|8       |0      |\n",
    "|9       |1      |"
   ]
  },
  {
   "cell_type": "code",
   "execution_count": 10,
   "metadata": {},
   "outputs": [
    {
     "name": "stdout",
     "output_type": "stream",
     "text": [
      "Frequency1 Rooms: 137\n",
      "Frequency2 Rooms: 374\n",
      "Frequency3 Rooms: 384\n",
      "Frequency4 Rooms: 136\n",
      "Frequency5 Rooms: 40\n",
      "Frequency6 Rooms: 9\n",
      "Frequency7 Rooms: 1\n",
      "Frequency8 Rooms: 0\n",
      "Frequency9 Rooms: 1\n"
     ]
    }
   ],
   "source": [
    "#### TODO 11 ####\n",
    "pass\n",
    "x = [v[-3] for v in data[1:]]\n",
    "for i in range(1,max(x)+1):\n",
    "    b = x.count(i)\n",
    "    print('Frequency'+str(i)+' Rooms: '+str(b))\n"
   ]
  },
  {
   "cell_type": "markdown",
   "metadata": {},
   "source": [
    "### Question 12\n",
    "\n",
    "Variable `YearBuilt` shows in which year each house was constructed. What was the average rent of the houses constructed in the 1990s?"
   ]
  },
  {
   "cell_type": "code",
   "execution_count": 11,
   "metadata": {},
   "outputs": [
    {
     "data": {
      "text/plain": [
       "1356.7849999999999"
      ]
     },
     "execution_count": 11,
     "metadata": {},
     "output_type": "execute_result"
    }
   ],
   "source": [
    "#### TODO 12 ####\n",
    "pass\n",
    "sum([v[0] for v in data[1:] if 1990 <= v[2] <= 1999]) / len([v[0] for v in data[1:] if 1990 <= v[2] <= 1999])"
   ]
  },
  {
   "cell_type": "markdown",
   "metadata": {},
   "source": [
    "## Exploratory Data Analysis\n",
    "\n",
    "In this section, you develop three questions about the `Miete` data set and then answer these questions with Python code. Write each question in the `Question` Markdown cell, and then write code under the `pass` statement in the corresponding TODO code cell. "
   ]
  },
  {
   "cell_type": "markdown",
   "metadata": {},
   "source": [
    "### Question 13\n",
    "\n",
    "*what is biggest FloorSpace?*"
   ]
  },
  {
   "cell_type": "code",
   "execution_count": 12,
   "metadata": {},
   "outputs": [
    {
     "data": {
      "text/plain": [
       "250"
      ]
     },
     "execution_count": 12,
     "metadata": {},
     "output_type": "execute_result"
    }
   ],
   "source": [
    "#### TODO 13 ####\n",
    "pass\n",
    "max([v[1] for v in data[1:]])"
   ]
  },
  {
   "cell_type": "markdown",
   "metadata": {},
   "source": [
    "### Question 14\n",
    "\n",
    "*How much the house that have biggest FloorSpace*"
   ]
  },
  {
   "cell_type": "code",
   "execution_count": 14,
   "metadata": {},
   "outputs": [
    {
     "name": "stdout",
     "output_type": "stream",
     "text": [
      "[1261.48]\n"
     ]
    }
   ],
   "source": [
    "#### TODO 14 ####\n",
    "pass\n",
    "print([v[0] for v in data[0:] if v[1] == max([v[1] for v in data[1:]])])"
   ]
  },
  {
   "cell_type": "markdown",
   "metadata": {},
   "source": [
    "### Question 15\n",
    "\n",
    "*which year the house be builded that have biggest FloorSpace*"
   ]
  },
  {
   "cell_type": "code",
   "execution_count": 16,
   "metadata": {},
   "outputs": [
    {
     "name": "stdout",
     "output_type": "stream",
     "text": [
      "[1912]\n"
     ]
    }
   ],
   "source": [
    "#### TODO 15 ####\n",
    "pass\n",
    "print([v[2] for v in data[2:] if v[1] == max([v[1] for v in data[1:]])])"
   ]
  },
  {
   "cell_type": "code",
   "execution_count": null,
   "metadata": {},
   "outputs": [],
   "source": []
  }
 ],
 "metadata": {
  "kernelspec": {
   "display_name": "Python 3",
   "language": "python",
   "name": "python3"
  },
  "language_info": {
   "codemirror_mode": {
    "name": "ipython",
    "version": 3
   },
   "file_extension": ".py",
   "mimetype": "text/x-python",
   "name": "python",
   "nbconvert_exporter": "python",
   "pygments_lexer": "ipython3",
   "version": "3.7.3"
  }
 },
 "nbformat": 4,
 "nbformat_minor": 2
}
