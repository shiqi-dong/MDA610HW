{
 "cells": [
  {
   "cell_type": "code",
   "execution_count": 11,
   "metadata": {},
   "outputs": [
    {
     "name": "stdout",
     "output_type": "stream",
     "text": [
      "Count of all characters in test_str is :\n",
      " {'v': 1, 'e': 1, 'r': 1, 'y': 1, 'g': 1, 'o': 2, 'd': 1}\n"
     ]
    }
   ],
   "source": [
    "test_str = \"verygood\"\n",
    "\n",
    "all_freq = {} \n",
    "  \n",
    "for i in test_str: \n",
    "    if i in all_freq: \n",
    "        all_freq[i] += 1\n",
    "    else: \n",
    "        all_freq[i] = 1\n",
    "        \n",
    "print (\"Count of all characters in test_str is :\\n \"\n",
    "                                        +  str(all_freq)) \n",
    "        \n"
   ]
  },
  {
   "cell_type": "code",
   "execution_count": 51,
   "metadata": {},
   "outputs": [
    {
     "name": "stdout",
     "output_type": "stream",
     "text": [
      "min is: -20 \n",
      "max is: 99\n",
      "min is: V \n",
      "max is: y\n"
     ]
    }
   ],
   "source": [
    "def min_and_max(x):\n",
    "    m = min(x)\n",
    "    n = max(x)\n",
    "    print('min is: '+str(m),'\\nmax is: '+str(n))\n",
    "\n",
    "x = [3,4,5,32,67,99,20,-20]\n",
    "min_and_max(x)\n",
    "y= 'Verygood'\n",
    "min_and_max(y)\n"
   ]
  },
  {
   "cell_type": "code",
   "execution_count": 22,
   "metadata": {},
   "outputs": [
    {
     "data": {
      "text/plain": [
       "[1, 6, 8, 14]"
      ]
     },
     "execution_count": 22,
     "metadata": {},
     "output_type": "execute_result"
    }
   ],
   "source": [
    "lis = [1, 5, 2, 6]\n",
    "\n",
    "from itertools import accumulate\n",
    "\n",
    "list(accumulate(lis))\n"
   ]
  },
  {
   "cell_type": "code",
   "execution_count": 55,
   "metadata": {},
   "outputs": [
    {
     "name": "stdout",
     "output_type": "stream",
     "text": [
      "Dot product: 22\n"
     ]
    }
   ],
   "source": [
    "n = 4\n",
    "def dotProduct(vect_A, vect_B): \n",
    "  \n",
    "    product = 0\n",
    "  \n",
    "    for i in range(0, n): \n",
    "        product = product + vect_A[i] * vect_B[i] \n",
    "  \n",
    "    return product \n",
    "  \n",
    "  \n",
    "if __name__=='__main__': \n",
    "    vect_A = [1, 5, 2, 6]  \n",
    "    vect_B = [0, 2, 3, 1] \n",
    "    cross_P = [] \n",
    "  \n",
    "    print(\"Dot product:\", end=\" \") \n",
    "    print(dotProduct(vect_A, vect_B)) \n",
    "  \n",
    "\n",
    " "
   ]
  },
  {
   "cell_type": "code",
   "execution_count": null,
   "metadata": {},
   "outputs": [],
   "source": []
  }
 ],
 "metadata": {
  "kernelspec": {
   "display_name": "Python 3",
   "language": "python",
   "name": "python3"
  },
  "language_info": {
   "codemirror_mode": {
    "name": "ipython",
    "version": 3
   },
   "file_extension": ".py",
   "mimetype": "text/x-python",
   "name": "python",
   "nbconvert_exporter": "python",
   "pygments_lexer": "ipython3",
   "version": "3.7.3"
  }
 },
 "nbformat": 4,
 "nbformat_minor": 2
}
