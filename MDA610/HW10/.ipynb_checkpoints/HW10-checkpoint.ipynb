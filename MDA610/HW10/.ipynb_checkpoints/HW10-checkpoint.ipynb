{
 "cells": [
  {
   "cell_type": "markdown",
   "metadata": {},
   "source": [
    "# pandas Basics"
   ]
  },
  {
   "cell_type": "markdown",
   "metadata": {},
   "source": [
    "- In this homework assignment, you will practice selecting, sorting, and aggregating data in a DataFrame. \n",
    "- Follow each *TODO* instruction to write a Python code snippet with pandas and Numpy. Include the output of each code cell."
   ]
  },
  {
   "cell_type": "code",
   "execution_count": 41,
   "metadata": {},
   "outputs": [],
   "source": [
    "import numpy as np\n",
    "import pandas as pd\n",
    "from pandas import Series, DataFrame"
   ]
  },
  {
   "cell_type": "markdown",
   "metadata": {},
   "source": [
    "**TODO 1**\n",
    "Consider the following Python dictionary `adict`. \n",
    "\n",
    "```python\n",
    "adict = {'state': ['New York', 'California', 'Maryland'], \n",
    "         'pop2010': [19378, 37254, 5774],\n",
    "         'pop2018': [19542, 39557, 6043],\n",
    "         'rev2010': [71545, 112372, 17064],\n",
    "         'rev2018': [88541, 175017, 22427]}\n",
    "```\n",
    "\n",
    "Notation:\n",
    "\n",
    "- `pop2010`: state's 2010 population (in thousand)\n",
    "- `pop2018`: state's 2018 population (in thousand)\n",
    "- `rev2010`: state's 2010 tax revenue (in million USD)\n",
    "- `rev2018`: state's 2018 tax revenue (in million USD)\n",
    "\n",
    "Construct a DataFrame `frame` from dictionary `adict`. The row label (index) of each state is its abbreviation, i.e., `NY`, `CA` or `MD`. "
   ]
  },
  {
   "cell_type": "code",
   "execution_count": 16,
   "metadata": {},
   "outputs": [
    {
     "data": {
      "text/html": [
       "<div>\n",
       "<style scoped>\n",
       "    .dataframe tbody tr th:only-of-type {\n",
       "        vertical-align: middle;\n",
       "    }\n",
       "\n",
       "    .dataframe tbody tr th {\n",
       "        vertical-align: top;\n",
       "    }\n",
       "\n",
       "    .dataframe thead th {\n",
       "        text-align: right;\n",
       "    }\n",
       "</style>\n",
       "<table border=\"1\" class=\"dataframe\">\n",
       "  <thead>\n",
       "    <tr style=\"text-align: right;\">\n",
       "      <th></th>\n",
       "      <th>state</th>\n",
       "      <th>pop2010</th>\n",
       "      <th>pop2018</th>\n",
       "      <th>rev2010</th>\n",
       "      <th>rev2018</th>\n",
       "    </tr>\n",
       "  </thead>\n",
       "  <tbody>\n",
       "    <tr>\n",
       "      <th>NY</th>\n",
       "      <td>New York</td>\n",
       "      <td>19378</td>\n",
       "      <td>19542</td>\n",
       "      <td>71545</td>\n",
       "      <td>88541</td>\n",
       "    </tr>\n",
       "    <tr>\n",
       "      <th>CA</th>\n",
       "      <td>California</td>\n",
       "      <td>37254</td>\n",
       "      <td>39557</td>\n",
       "      <td>112372</td>\n",
       "      <td>175017</td>\n",
       "    </tr>\n",
       "    <tr>\n",
       "      <th>MD</th>\n",
       "      <td>Maryland</td>\n",
       "      <td>5774</td>\n",
       "      <td>6043</td>\n",
       "      <td>17064</td>\n",
       "      <td>22427</td>\n",
       "    </tr>\n",
       "  </tbody>\n",
       "</table>\n",
       "</div>"
      ],
      "text/plain": [
       "         state  pop2010  pop2018  rev2010  rev2018\n",
       "NY    New York    19378    19542    71545    88541\n",
       "CA  California    37254    39557   112372   175017\n",
       "MD    Maryland     5774     6043    17064    22427"
      ]
     },
     "execution_count": 16,
     "metadata": {},
     "output_type": "execute_result"
    }
   ],
   "source": [
    "#####TODO 1#####\n",
    "pass\n",
    "adict = {'state': ['New York', 'California', 'Maryland'], \n",
    "         'pop2010': [19378, 37254, 5774],\n",
    "         'pop2018': [19542, 39557, 6043],\n",
    "         'rev2010': [71545, 112372, 17064],\n",
    "         'rev2018': [88541, 175017, 22427],}\n",
    "adf = DataFrame(adict)\n",
    "adf2 = DataFrame(adict, index = ['NY', 'CA', 'MD'])\n",
    "adf2\n"
   ]
  },
  {
   "cell_type": "markdown",
   "metadata": {},
   "source": [
    "**TODO 2**\n",
    "It is known that the areas of the three states are 54555, 163695 and 12406 square miles. Add a column `area` with appropriate data to DataFrame `frame`."
   ]
  },
  {
   "cell_type": "code",
   "execution_count": 28,
   "metadata": {},
   "outputs": [
    {
     "data": {
      "text/html": [
       "<div>\n",
       "<style scoped>\n",
       "    .dataframe tbody tr th:only-of-type {\n",
       "        vertical-align: middle;\n",
       "    }\n",
       "\n",
       "    .dataframe tbody tr th {\n",
       "        vertical-align: top;\n",
       "    }\n",
       "\n",
       "    .dataframe thead th {\n",
       "        text-align: right;\n",
       "    }\n",
       "</style>\n",
       "<table border=\"1\" class=\"dataframe\">\n",
       "  <thead>\n",
       "    <tr style=\"text-align: right;\">\n",
       "      <th></th>\n",
       "      <th>state</th>\n",
       "      <th>pop2010</th>\n",
       "      <th>pop2018</th>\n",
       "      <th>rev2010</th>\n",
       "      <th>rev2018</th>\n",
       "      <th>area</th>\n",
       "    </tr>\n",
       "  </thead>\n",
       "  <tbody>\n",
       "    <tr>\n",
       "      <th>NY</th>\n",
       "      <td>New York</td>\n",
       "      <td>19378</td>\n",
       "      <td>19542</td>\n",
       "      <td>71545</td>\n",
       "      <td>88541</td>\n",
       "      <td>54555</td>\n",
       "    </tr>\n",
       "    <tr>\n",
       "      <th>CA</th>\n",
       "      <td>California</td>\n",
       "      <td>37254</td>\n",
       "      <td>39557</td>\n",
       "      <td>112372</td>\n",
       "      <td>175017</td>\n",
       "      <td>163695</td>\n",
       "    </tr>\n",
       "    <tr>\n",
       "      <th>MD</th>\n",
       "      <td>Maryland</td>\n",
       "      <td>5774</td>\n",
       "      <td>6043</td>\n",
       "      <td>17064</td>\n",
       "      <td>22427</td>\n",
       "      <td>12406</td>\n",
       "    </tr>\n",
       "  </tbody>\n",
       "</table>\n",
       "</div>"
      ],
      "text/plain": [
       "         state  pop2010  pop2018  rev2010  rev2018    area\n",
       "NY    New York    19378    19542    71545    88541   54555\n",
       "CA  California    37254    39557   112372   175017  163695\n",
       "MD    Maryland     5774     6043    17064    22427   12406"
      ]
     },
     "execution_count": 28,
     "metadata": {},
     "output_type": "execute_result"
    }
   ],
   "source": [
    "#####TODO 2#####\n",
    "pass\n",
    "adf2['area'] = adf2.area = [54555, 163695, 12406]\n",
    "adf2"
   ]
  },
  {
   "cell_type": "markdown",
   "metadata": {},
   "source": [
    "**TODO 3** \n",
    "Select the first row and the last row of DataFrame `frame`."
   ]
  },
  {
   "cell_type": "code",
   "execution_count": 50,
   "metadata": {},
   "outputs": [
    {
     "data": {
      "text/html": [
       "<div>\n",
       "<style scoped>\n",
       "    .dataframe tbody tr th:only-of-type {\n",
       "        vertical-align: middle;\n",
       "    }\n",
       "\n",
       "    .dataframe tbody tr th {\n",
       "        vertical-align: top;\n",
       "    }\n",
       "\n",
       "    .dataframe thead th {\n",
       "        text-align: right;\n",
       "    }\n",
       "</style>\n",
       "<table border=\"1\" class=\"dataframe\">\n",
       "  <thead>\n",
       "    <tr style=\"text-align: right;\">\n",
       "      <th></th>\n",
       "      <th>state</th>\n",
       "      <th>pop2010</th>\n",
       "      <th>pop2018</th>\n",
       "      <th>rev2010</th>\n",
       "      <th>rev2018</th>\n",
       "      <th>area</th>\n",
       "    </tr>\n",
       "  </thead>\n",
       "  <tbody>\n",
       "    <tr>\n",
       "      <th>NY</th>\n",
       "      <td>New York</td>\n",
       "      <td>19378</td>\n",
       "      <td>19542</td>\n",
       "      <td>71545</td>\n",
       "      <td>88541</td>\n",
       "      <td>54555</td>\n",
       "    </tr>\n",
       "    <tr>\n",
       "      <th>MD</th>\n",
       "      <td>Maryland</td>\n",
       "      <td>5774</td>\n",
       "      <td>6043</td>\n",
       "      <td>17064</td>\n",
       "      <td>22427</td>\n",
       "      <td>12406</td>\n",
       "    </tr>\n",
       "  </tbody>\n",
       "</table>\n",
       "</div>"
      ],
      "text/plain": [
       "       state  pop2010  pop2018  rev2010  rev2018   area\n",
       "NY  New York    19378    19542    71545    88541  54555\n",
       "MD  Maryland     5774     6043    17064    22427  12406"
      ]
     },
     "execution_count": 50,
     "metadata": {},
     "output_type": "execute_result"
    }
   ],
   "source": [
    "#####TODO 3#####\n",
    "pass\n",
    "(adf2.loc[['NY', 'MD']])\n"
   ]
  },
  {
   "cell_type": "markdown",
   "metadata": {},
   "source": [
    "**TODO 4**\n",
    "Select just columns `state`, `pop2018` and `area` from DataFrame `frame`."
   ]
  },
  {
   "cell_type": "code",
   "execution_count": 51,
   "metadata": {},
   "outputs": [
    {
     "data": {
      "text/html": [
       "<div>\n",
       "<style scoped>\n",
       "    .dataframe tbody tr th:only-of-type {\n",
       "        vertical-align: middle;\n",
       "    }\n",
       "\n",
       "    .dataframe tbody tr th {\n",
       "        vertical-align: top;\n",
       "    }\n",
       "\n",
       "    .dataframe thead th {\n",
       "        text-align: right;\n",
       "    }\n",
       "</style>\n",
       "<table border=\"1\" class=\"dataframe\">\n",
       "  <thead>\n",
       "    <tr style=\"text-align: right;\">\n",
       "      <th></th>\n",
       "      <th>state</th>\n",
       "      <th>pop2018</th>\n",
       "      <th>area</th>\n",
       "    </tr>\n",
       "  </thead>\n",
       "  <tbody>\n",
       "    <tr>\n",
       "      <th>NY</th>\n",
       "      <td>New York</td>\n",
       "      <td>19542</td>\n",
       "      <td>54555</td>\n",
       "    </tr>\n",
       "    <tr>\n",
       "      <th>CA</th>\n",
       "      <td>California</td>\n",
       "      <td>39557</td>\n",
       "      <td>163695</td>\n",
       "    </tr>\n",
       "    <tr>\n",
       "      <th>MD</th>\n",
       "      <td>Maryland</td>\n",
       "      <td>6043</td>\n",
       "      <td>12406</td>\n",
       "    </tr>\n",
       "  </tbody>\n",
       "</table>\n",
       "</div>"
      ],
      "text/plain": [
       "         state  pop2018    area\n",
       "NY    New York    19542   54555\n",
       "CA  California    39557  163695\n",
       "MD    Maryland     6043   12406"
      ]
     },
     "execution_count": 51,
     "metadata": {},
     "output_type": "execute_result"
    }
   ],
   "source": [
    "#####TODO 4#####\n",
    "pass\n",
    "(adf2[['state', 'pop2018','area']])"
   ]
  },
  {
   "cell_type": "markdown",
   "metadata": {},
   "source": [
    "**TODO 5**\n",
    "Select the New York state's population data in 2010 and 2018."
   ]
  },
  {
   "cell_type": "code",
   "execution_count": 57,
   "metadata": {},
   "outputs": [
    {
     "name": "stdout",
     "output_type": "stream",
     "text": [
      "    pop2010  pop2018\n",
      "NY    19378    19542\n"
     ]
    }
   ],
   "source": [
    "#####TODO 5#####\n",
    "pass\n",
    "\n",
    "print(adf2.iloc[[0], [1,2]])"
   ]
  },
  {
   "cell_type": "markdown",
   "metadata": {},
   "source": [
    "**TODO 6**\n",
    "Show the row labels of the second row and the third row."
   ]
  },
  {
   "cell_type": "code",
   "execution_count": 58,
   "metadata": {},
   "outputs": [
    {
     "name": "stdout",
     "output_type": "stream",
     "text": [
      "         state\n",
      "CA  California\n",
      "MD    Maryland\n"
     ]
    }
   ],
   "source": [
    "#####TODO 6#####\n",
    "pass\n",
    "print(adf2.iloc[[1,2],[0]])"
   ]
  },
  {
   "cell_type": "markdown",
   "metadata": {},
   "source": [
    "**TODO 7**\n",
    "Select just columns `state`, `rev2010` and `rev2018` of the second row and the third row from DataFrame `frame`."
   ]
  },
  {
   "cell_type": "code",
   "execution_count": 64,
   "metadata": {},
   "outputs": [
    {
     "data": {
      "text/html": [
       "<div>\n",
       "<style scoped>\n",
       "    .dataframe tbody tr th:only-of-type {\n",
       "        vertical-align: middle;\n",
       "    }\n",
       "\n",
       "    .dataframe tbody tr th {\n",
       "        vertical-align: top;\n",
       "    }\n",
       "\n",
       "    .dataframe thead th {\n",
       "        text-align: right;\n",
       "    }\n",
       "</style>\n",
       "<table border=\"1\" class=\"dataframe\">\n",
       "  <thead>\n",
       "    <tr style=\"text-align: right;\">\n",
       "      <th></th>\n",
       "      <th>state</th>\n",
       "      <th>rev2010</th>\n",
       "      <th>rev2018</th>\n",
       "    </tr>\n",
       "  </thead>\n",
       "  <tbody>\n",
       "    <tr>\n",
       "      <th>CA</th>\n",
       "      <td>California</td>\n",
       "      <td>112372</td>\n",
       "      <td>175017</td>\n",
       "    </tr>\n",
       "    <tr>\n",
       "      <th>MD</th>\n",
       "      <td>Maryland</td>\n",
       "      <td>17064</td>\n",
       "      <td>22427</td>\n",
       "    </tr>\n",
       "  </tbody>\n",
       "</table>\n",
       "</div>"
      ],
      "text/plain": [
       "         state  rev2010  rev2018\n",
       "CA  California   112372   175017\n",
       "MD    Maryland    17064    22427"
      ]
     },
     "execution_count": 64,
     "metadata": {},
     "output_type": "execute_result"
    }
   ],
   "source": [
    "#####TODO 7#####\n",
    "pass\n",
    "\n",
    "adf2.loc[['CA','MD'],['state','rev2010','rev2018']]"
   ]
  },
  {
   "cell_type": "markdown",
   "metadata": {},
   "source": [
    "**TODO 8** Select only the rows from DataFrame `frame` with an area greater than 50,000."
   ]
  },
  {
   "cell_type": "code",
   "execution_count": 74,
   "metadata": {},
   "outputs": [
    {
     "name": "stdout",
     "output_type": "stream",
     "text": [
      "         state  pop2010  pop2018  rev2010  rev2018    area\n",
      "NY    New York    19378    19542    71545    88541   54555\n",
      "CA  California    37254    39557   112372   175017  163695\n"
     ]
    }
   ],
   "source": [
    "#####TODO 8#####\n",
    "pass\n",
    "\n",
    "\n",
    "print(adf2.iloc[:][adf2.area > 50000] ) "
   ]
  },
  {
   "cell_type": "markdown",
   "metadata": {},
   "source": [
    "**TODO 9** \n",
    "Add a column `popchange` to DataFrame `frame`. Assign the percentage change from 2010 to 2018 in each state's population to this new column.  "
   ]
  },
  {
   "cell_type": "code",
   "execution_count": 99,
   "metadata": {},
   "outputs": [
    {
     "data": {
      "text/html": [
       "<div>\n",
       "<style scoped>\n",
       "    .dataframe tbody tr th:only-of-type {\n",
       "        vertical-align: middle;\n",
       "    }\n",
       "\n",
       "    .dataframe tbody tr th {\n",
       "        vertical-align: top;\n",
       "    }\n",
       "\n",
       "    .dataframe thead th {\n",
       "        text-align: right;\n",
       "    }\n",
       "</style>\n",
       "<table border=\"1\" class=\"dataframe\">\n",
       "  <thead>\n",
       "    <tr style=\"text-align: right;\">\n",
       "      <th></th>\n",
       "      <th>state</th>\n",
       "      <th>pop2010</th>\n",
       "      <th>pop2018</th>\n",
       "      <th>rev2010</th>\n",
       "      <th>rev2018</th>\n",
       "      <th>area</th>\n",
       "      <th>popchange</th>\n",
       "    </tr>\n",
       "  </thead>\n",
       "  <tbody>\n",
       "    <tr>\n",
       "      <th>NY</th>\n",
       "      <td>New York</td>\n",
       "      <td>19378</td>\n",
       "      <td>19542</td>\n",
       "      <td>71545</td>\n",
       "      <td>88541</td>\n",
       "      <td>54555</td>\n",
       "      <td>0.008463</td>\n",
       "    </tr>\n",
       "    <tr>\n",
       "      <th>CA</th>\n",
       "      <td>California</td>\n",
       "      <td>37254</td>\n",
       "      <td>39557</td>\n",
       "      <td>112372</td>\n",
       "      <td>175017</td>\n",
       "      <td>163695</td>\n",
       "      <td>0.061819</td>\n",
       "    </tr>\n",
       "    <tr>\n",
       "      <th>MD</th>\n",
       "      <td>Maryland</td>\n",
       "      <td>5774</td>\n",
       "      <td>6043</td>\n",
       "      <td>17064</td>\n",
       "      <td>22427</td>\n",
       "      <td>12406</td>\n",
       "      <td>0.046588</td>\n",
       "    </tr>\n",
       "  </tbody>\n",
       "</table>\n",
       "</div>"
      ],
      "text/plain": [
       "         state  pop2010  pop2018  rev2010  rev2018    area  popchange\n",
       "NY    New York    19378    19542    71545    88541   54555   0.008463\n",
       "CA  California    37254    39557   112372   175017  163695   0.061819\n",
       "MD    Maryland     5774     6043    17064    22427   12406   0.046588"
      ]
     },
     "execution_count": 99,
     "metadata": {},
     "output_type": "execute_result"
    }
   ],
   "source": [
    "#####TODO 9#####\n",
    "pass\n",
    "adf2['popchange'] = adf2.popchange = (adf2.iloc[:,2]-adf2.iloc[:,1])/adf2.iloc[:,1]\n",
    "adf2"
   ]
  },
  {
   "cell_type": "markdown",
   "metadata": {},
   "source": [
    "**TODO 10** \n",
    "Sort DataFrame `frame` by the index. "
   ]
  },
  {
   "cell_type": "code",
   "execution_count": 100,
   "metadata": {},
   "outputs": [
    {
     "data": {
      "text/html": [
       "<div>\n",
       "<style scoped>\n",
       "    .dataframe tbody tr th:only-of-type {\n",
       "        vertical-align: middle;\n",
       "    }\n",
       "\n",
       "    .dataframe tbody tr th {\n",
       "        vertical-align: top;\n",
       "    }\n",
       "\n",
       "    .dataframe thead th {\n",
       "        text-align: right;\n",
       "    }\n",
       "</style>\n",
       "<table border=\"1\" class=\"dataframe\">\n",
       "  <thead>\n",
       "    <tr style=\"text-align: right;\">\n",
       "      <th></th>\n",
       "      <th>state</th>\n",
       "      <th>pop2010</th>\n",
       "      <th>pop2018</th>\n",
       "      <th>rev2010</th>\n",
       "      <th>rev2018</th>\n",
       "      <th>area</th>\n",
       "      <th>popchange</th>\n",
       "    </tr>\n",
       "  </thead>\n",
       "  <tbody>\n",
       "    <tr>\n",
       "      <th>CA</th>\n",
       "      <td>California</td>\n",
       "      <td>37254</td>\n",
       "      <td>39557</td>\n",
       "      <td>112372</td>\n",
       "      <td>175017</td>\n",
       "      <td>163695</td>\n",
       "      <td>0.061819</td>\n",
       "    </tr>\n",
       "    <tr>\n",
       "      <th>MD</th>\n",
       "      <td>Maryland</td>\n",
       "      <td>5774</td>\n",
       "      <td>6043</td>\n",
       "      <td>17064</td>\n",
       "      <td>22427</td>\n",
       "      <td>12406</td>\n",
       "      <td>0.046588</td>\n",
       "    </tr>\n",
       "    <tr>\n",
       "      <th>NY</th>\n",
       "      <td>New York</td>\n",
       "      <td>19378</td>\n",
       "      <td>19542</td>\n",
       "      <td>71545</td>\n",
       "      <td>88541</td>\n",
       "      <td>54555</td>\n",
       "      <td>0.008463</td>\n",
       "    </tr>\n",
       "  </tbody>\n",
       "</table>\n",
       "</div>"
      ],
      "text/plain": [
       "         state  pop2010  pop2018  rev2010  rev2018    area  popchange\n",
       "CA  California    37254    39557   112372   175017  163695   0.061819\n",
       "MD    Maryland     5774     6043    17064    22427   12406   0.046588\n",
       "NY    New York    19378    19542    71545    88541   54555   0.008463"
      ]
     },
     "execution_count": 100,
     "metadata": {},
     "output_type": "execute_result"
    }
   ],
   "source": [
    "#####TODO 10#####\n",
    "pass\n",
    "adf2.sort_index()"
   ]
  },
  {
   "cell_type": "markdown",
   "metadata": {},
   "source": [
    "**TODO 11**\n",
    "Sort DataFrame `frame` by the 2018 population in descending order."
   ]
  },
  {
   "cell_type": "code",
   "execution_count": 107,
   "metadata": {
    "scrolled": true
   },
   "outputs": [
    {
     "data": {
      "text/html": [
       "<div>\n",
       "<style scoped>\n",
       "    .dataframe tbody tr th:only-of-type {\n",
       "        vertical-align: middle;\n",
       "    }\n",
       "\n",
       "    .dataframe tbody tr th {\n",
       "        vertical-align: top;\n",
       "    }\n",
       "\n",
       "    .dataframe thead th {\n",
       "        text-align: right;\n",
       "    }\n",
       "</style>\n",
       "<table border=\"1\" class=\"dataframe\">\n",
       "  <thead>\n",
       "    <tr style=\"text-align: right;\">\n",
       "      <th></th>\n",
       "      <th>state</th>\n",
       "      <th>pop2010</th>\n",
       "      <th>pop2018</th>\n",
       "      <th>rev2010</th>\n",
       "      <th>rev2018</th>\n",
       "      <th>area</th>\n",
       "      <th>popchange</th>\n",
       "    </tr>\n",
       "  </thead>\n",
       "  <tbody>\n",
       "    <tr>\n",
       "      <th>CA</th>\n",
       "      <td>California</td>\n",
       "      <td>37254</td>\n",
       "      <td>39557</td>\n",
       "      <td>112372</td>\n",
       "      <td>175017</td>\n",
       "      <td>163695</td>\n",
       "      <td>0.061819</td>\n",
       "    </tr>\n",
       "    <tr>\n",
       "      <th>NY</th>\n",
       "      <td>New York</td>\n",
       "      <td>19378</td>\n",
       "      <td>19542</td>\n",
       "      <td>71545</td>\n",
       "      <td>88541</td>\n",
       "      <td>54555</td>\n",
       "      <td>0.008463</td>\n",
       "    </tr>\n",
       "    <tr>\n",
       "      <th>MD</th>\n",
       "      <td>Maryland</td>\n",
       "      <td>5774</td>\n",
       "      <td>6043</td>\n",
       "      <td>17064</td>\n",
       "      <td>22427</td>\n",
       "      <td>12406</td>\n",
       "      <td>0.046588</td>\n",
       "    </tr>\n",
       "  </tbody>\n",
       "</table>\n",
       "</div>"
      ],
      "text/plain": [
       "         state  pop2010  pop2018  rev2010  rev2018    area  popchange\n",
       "CA  California    37254    39557   112372   175017  163695   0.061819\n",
       "NY    New York    19378    19542    71545    88541   54555   0.008463\n",
       "MD    Maryland     5774     6043    17064    22427   12406   0.046588"
      ]
     },
     "execution_count": 107,
     "metadata": {},
     "output_type": "execute_result"
    }
   ],
   "source": [
    "#####TODO 11#####\n",
    "pass\n",
    "adf2.sort_values(by='pop2018',ascending = False)"
   ]
  },
  {
   "cell_type": "markdown",
   "metadata": {},
   "source": [
    "**TODO 12**\n",
    "Compute the total tax revenue across the three states in DataFrame `frame`."
   ]
  },
  {
   "cell_type": "code",
   "execution_count": 117,
   "metadata": {},
   "outputs": [
    {
     "data": {
      "text/plain": [
       "486966"
      ]
     },
     "execution_count": 117,
     "metadata": {},
     "output_type": "execute_result"
    }
   ],
   "source": [
    "####TODO 12####\n",
    "pass\n",
    "sum(adf2.iloc[:,3] + adf2.iloc[:,4])"
   ]
  },
  {
   "cell_type": "markdown",
   "metadata": {},
   "source": [
    "**TODO 13** In how many states did the tax reveue increase by at least 30%? "
   ]
  },
  {
   "cell_type": "code",
   "execution_count": 126,
   "metadata": {},
   "outputs": [
    {
     "data": {
      "text/plain": [
       "2"
      ]
     },
     "execution_count": 126,
     "metadata": {},
     "output_type": "execute_result"
    }
   ],
   "source": [
    "#####TODO 13#####\n",
    "pass\n",
    "np.sum(adf2.iloc[:,4]>1.3*adf2.iloc[:,3])"
   ]
  },
  {
   "cell_type": "markdown",
   "metadata": {},
   "source": [
    "**TODO 14** \n",
    "Return the index of the row with the highest `popchange` value. "
   ]
  },
  {
   "cell_type": "code",
   "execution_count": 169,
   "metadata": {},
   "outputs": [
    {
     "data": {
      "text/plain": [
       "popchange    CA\n",
       "dtype: object"
      ]
     },
     "execution_count": 169,
     "metadata": {},
     "output_type": "execute_result"
    }
   ],
   "source": [
    "#####TODO 14#####\n",
    "pass\n",
    "data=adf2.drop(['state','pop2010','pop2018','rev2010','rev2018','area'], axis=1)\n",
    "data.idxmax()"
   ]
  },
  {
   "cell_type": "markdown",
   "metadata": {},
   "source": [
    "adf2"
   ]
  },
  {
   "cell_type": "markdown",
   "metadata": {},
   "source": [
    "**TODO 15**\n",
    "Replace Maryland's `popchange` value by `np.NaN`. Then count the number of rows in the DataFrame with one or more missing values.\n",
    "\n",
    "Hint: use methods `isnull()` and `any(axis = 1)`."
   ]
  },
  {
   "cell_type": "code",
   "execution_count": 197,
   "metadata": {},
   "outputs": [
    {
     "data": {
      "text/plain": [
       "1"
      ]
     },
     "execution_count": 197,
     "metadata": {},
     "output_type": "execute_result"
    }
   ],
   "source": [
    "#####TODO 15#####\n",
    "pass\n",
    "adf2 = adf2.replace(adf2.iloc[2,6],np.NaN)\n",
    "\n",
    "np.sum(adf2.isnull().any(axis=1))\n",
    "\n"
   ]
  }
 ],
 "metadata": {
  "kernelspec": {
   "display_name": "Python 3",
   "language": "python",
   "name": "python3"
  },
  "language_info": {
   "codemirror_mode": {
    "name": "ipython",
    "version": 3
   },
   "file_extension": ".py",
   "mimetype": "text/x-python",
   "name": "python",
   "nbconvert_exporter": "python",
   "pygments_lexer": "ipython3",
   "version": "3.7.3"
  }
 },
 "nbformat": 4,
 "nbformat_minor": 2
}
